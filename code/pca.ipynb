{
 "cells": [
  {
   "cell_type": "code",
   "execution_count": 1,
   "metadata": {},
   "outputs": [],
   "source": [
    "from common import *\n",
    "import pandas as pd\n",
    "import matplotlib.pyplot as plt\n",
    "%matplotlib inline"
   ]
  },
  {
   "cell_type": "code",
   "execution_count": 22,
   "metadata": {},
   "outputs": [
    {
     "data": {
      "text/html": [
       "<div>\n",
       "<style scoped>\n",
       "    .dataframe tbody tr th:only-of-type {\n",
       "        vertical-align: middle;\n",
       "    }\n",
       "\n",
       "    .dataframe tbody tr th {\n",
       "        vertical-align: top;\n",
       "    }\n",
       "\n",
       "    .dataframe thead th {\n",
       "        text-align: right;\n",
       "    }\n",
       "</style>\n",
       "<table border=\"1\" class=\"dataframe\">\n",
       "  <thead>\n",
       "    <tr style=\"text-align: right;\">\n",
       "      <th></th>\n",
       "      <th>x</th>\n",
       "      <th>y</th>\n",
       "      <th>label</th>\n",
       "      <th>NDAI</th>\n",
       "      <th>SD</th>\n",
       "      <th>CORR</th>\n",
       "      <th>angle_DF</th>\n",
       "      <th>angle_CF</th>\n",
       "      <th>angle_BF</th>\n",
       "      <th>angle_AF</th>\n",
       "      <th>angle_AN</th>\n",
       "      <th>source</th>\n",
       "    </tr>\n",
       "  </thead>\n",
       "  <tbody>\n",
       "    <tr>\n",
       "      <th>69561</th>\n",
       "      <td>13.0</td>\n",
       "      <td>250.0</td>\n",
       "      <td>0.0</td>\n",
       "      <td>3.927712</td>\n",
       "      <td>13.437068</td>\n",
       "      <td>0.245356</td>\n",
       "      <td>222.11769</td>\n",
       "      <td>205.927030</td>\n",
       "      <td>182.800610</td>\n",
       "      <td>151.144170</td>\n",
       "      <td>133.68916</td>\n",
       "      <td>Image 1</td>\n",
       "    </tr>\n",
       "    <tr>\n",
       "      <th>30636</th>\n",
       "      <td>332.0</td>\n",
       "      <td>147.0</td>\n",
       "      <td>0.0</td>\n",
       "      <td>2.806787</td>\n",
       "      <td>12.095119</td>\n",
       "      <td>0.207171</td>\n",
       "      <td>331.93146</td>\n",
       "      <td>256.892820</td>\n",
       "      <td>293.327240</td>\n",
       "      <td>273.541050</td>\n",
       "      <td>226.80415</td>\n",
       "      <td>Image 2</td>\n",
       "    </tr>\n",
       "    <tr>\n",
       "      <th>61007</th>\n",
       "      <td>245.0</td>\n",
       "      <td>227.0</td>\n",
       "      <td>-1.0</td>\n",
       "      <td>-0.485898</td>\n",
       "      <td>0.692338</td>\n",
       "      <td>0.154782</td>\n",
       "      <td>298.11002</td>\n",
       "      <td>282.771880</td>\n",
       "      <td>267.739560</td>\n",
       "      <td>239.690690</td>\n",
       "      <td>218.41862</td>\n",
       "      <td>Image 1</td>\n",
       "    </tr>\n",
       "    <tr>\n",
       "      <th>74274</th>\n",
       "      <td>40.0</td>\n",
       "      <td>262.0</td>\n",
       "      <td>0.0</td>\n",
       "      <td>1.632080</td>\n",
       "      <td>6.738566</td>\n",
       "      <td>0.202309</td>\n",
       "      <td>269.65173</td>\n",
       "      <td>257.740540</td>\n",
       "      <td>226.541640</td>\n",
       "      <td>199.872680</td>\n",
       "      <td>187.27274</td>\n",
       "      <td>Image 2</td>\n",
       "    </tr>\n",
       "    <tr>\n",
       "      <th>42879</th>\n",
       "      <td>71.0</td>\n",
       "      <td>180.0</td>\n",
       "      <td>-1.0</td>\n",
       "      <td>2.173151</td>\n",
       "      <td>10.697544</td>\n",
       "      <td>0.325360</td>\n",
       "      <td>114.83498</td>\n",
       "      <td>87.578415</td>\n",
       "      <td>69.294975</td>\n",
       "      <td>58.643291</td>\n",
       "      <td>58.40728</td>\n",
       "      <td>Image 1</td>\n",
       "    </tr>\n",
       "  </tbody>\n",
       "</table>\n",
       "</div>"
      ],
      "text/plain": [
       "           x      y  label      NDAI         SD      CORR   angle_DF  \\\n",
       "69561   13.0  250.0    0.0  3.927712  13.437068  0.245356  222.11769   \n",
       "30636  332.0  147.0    0.0  2.806787  12.095119  0.207171  331.93146   \n",
       "61007  245.0  227.0   -1.0 -0.485898   0.692338  0.154782  298.11002   \n",
       "74274   40.0  262.0    0.0  1.632080   6.738566  0.202309  269.65173   \n",
       "42879   71.0  180.0   -1.0  2.173151  10.697544  0.325360  114.83498   \n",
       "\n",
       "         angle_CF    angle_BF    angle_AF   angle_AN   source  \n",
       "69561  205.927030  182.800610  151.144170  133.68916  Image 1  \n",
       "30636  256.892820  293.327240  273.541050  226.80415  Image 2  \n",
       "61007  282.771880  267.739560  239.690690  218.41862  Image 1  \n",
       "74274  257.740540  226.541640  199.872680  187.27274  Image 2  \n",
       "42879   87.578415   69.294975   58.643291   58.40728  Image 1  "
      ]
     },
     "execution_count": 22,
     "metadata": {},
     "output_type": "execute_result"
    }
   ],
   "source": [
    "set_seed(0)\n",
    "df = load_data().sample(30000)\n",
    "df.head()"
   ]
  },
  {
   "cell_type": "code",
   "execution_count": 23,
   "metadata": {},
   "outputs": [],
   "source": [
    "from sklearn.preprocessing import StandardScaler\n",
    "\n",
    "df_labeled = df.loc[df[\"label\"] != 0]\n",
    "features = df_labeled.columns[3:-1]\n",
    "# Separating out the features\n",
    "x = df_labeled.loc[:, features].values\n",
    "# Separating out the target\n",
    "y = df_labeled.loc[:,['label']].values\n",
    "# Standardizing the features\n",
    "x = StandardScaler().fit_transform(x)\n"
   ]
  },
  {
   "cell_type": "code",
   "execution_count": 24,
   "metadata": {},
   "outputs": [
    {
     "data": {
      "text/html": [
       "<div>\n",
       "<style scoped>\n",
       "    .dataframe tbody tr th:only-of-type {\n",
       "        vertical-align: middle;\n",
       "    }\n",
       "\n",
       "    .dataframe tbody tr th {\n",
       "        vertical-align: top;\n",
       "    }\n",
       "\n",
       "    .dataframe thead th {\n",
       "        text-align: right;\n",
       "    }\n",
       "</style>\n",
       "<table border=\"1\" class=\"dataframe\">\n",
       "  <thead>\n",
       "    <tr style=\"text-align: right;\">\n",
       "      <th></th>\n",
       "      <th>principal component 1</th>\n",
       "      <th>principal component 2</th>\n",
       "      <th>principal component 3</th>\n",
       "    </tr>\n",
       "  </thead>\n",
       "  <tbody>\n",
       "    <tr>\n",
       "      <th>0</th>\n",
       "      <td>-2.088939</td>\n",
       "      <td>0.157110</td>\n",
       "      <td>-0.266290</td>\n",
       "    </tr>\n",
       "    <tr>\n",
       "      <th>1</th>\n",
       "      <td>7.560026</td>\n",
       "      <td>-2.677347</td>\n",
       "      <td>-0.954015</td>\n",
       "    </tr>\n",
       "    <tr>\n",
       "      <th>2</th>\n",
       "      <td>2.609390</td>\n",
       "      <td>0.791096</td>\n",
       "      <td>-0.509569</td>\n",
       "    </tr>\n",
       "    <tr>\n",
       "      <th>3</th>\n",
       "      <td>-1.809755</td>\n",
       "      <td>0.407219</td>\n",
       "      <td>-0.004618</td>\n",
       "    </tr>\n",
       "    <tr>\n",
       "      <th>4</th>\n",
       "      <td>2.485364</td>\n",
       "      <td>-0.410247</td>\n",
       "      <td>-1.077847</td>\n",
       "    </tr>\n",
       "  </tbody>\n",
       "</table>\n",
       "</div>"
      ],
      "text/plain": [
       "   principal component 1  principal component 2  principal component 3\n",
       "0              -2.088939               0.157110              -0.266290\n",
       "1               7.560026              -2.677347              -0.954015\n",
       "2               2.609390               0.791096              -0.509569\n",
       "3              -1.809755               0.407219              -0.004618\n",
       "4               2.485364              -0.410247              -1.077847"
      ]
     },
     "execution_count": 24,
     "metadata": {},
     "output_type": "execute_result"
    }
   ],
   "source": [
    "from sklearn.decomposition import PCA\n",
    "\n",
    "pca = PCA(n_components=3)\n",
    "principalComponents = pca.fit_transform(x)\n",
    "principalDf = pd.DataFrame(data = principalComponents\n",
    "             , columns = ['principal component 1', 'principal component 2', 'principal component 3'])\n",
    "principalDf.head()\n"
   ]
  },
  {
   "cell_type": "code",
   "execution_count": 25,
   "metadata": {},
   "outputs": [
    {
     "data": {
      "text/plain": [
       "array([ 0.65001193,  0.19136698,  0.09565554])"
      ]
     },
     "execution_count": 25,
     "metadata": {},
     "output_type": "execute_result"
    }
   ],
   "source": [
    "pca.explained_variance_ratio_"
   ]
  },
  {
   "cell_type": "code",
   "execution_count": 26,
   "metadata": {},
   "outputs": [
    {
     "name": "stdout",
     "output_type": "stream",
     "text": [
      "total variance explained  0.937034443342\n"
     ]
    }
   ],
   "source": [
    "print(\"total variance explained \", sum(pca.explained_variance_ratio_))"
   ]
  },
  {
   "cell_type": "code",
   "execution_count": 27,
   "metadata": {},
   "outputs": [
    {
     "data": {
      "text/html": [
       "<div>\n",
       "<style scoped>\n",
       "    .dataframe tbody tr th:only-of-type {\n",
       "        vertical-align: middle;\n",
       "    }\n",
       "\n",
       "    .dataframe tbody tr th {\n",
       "        vertical-align: top;\n",
       "    }\n",
       "\n",
       "    .dataframe thead th {\n",
       "        text-align: right;\n",
       "    }\n",
       "</style>\n",
       "<table border=\"1\" class=\"dataframe\">\n",
       "  <thead>\n",
       "    <tr style=\"text-align: right;\">\n",
       "      <th></th>\n",
       "      <th>NDAI</th>\n",
       "      <th>SD</th>\n",
       "      <th>CORR</th>\n",
       "      <th>angle_DF</th>\n",
       "      <th>angle_CF</th>\n",
       "      <th>angle_BF</th>\n",
       "      <th>angle_AF</th>\n",
       "      <th>angle_AN</th>\n",
       "    </tr>\n",
       "  </thead>\n",
       "  <tbody>\n",
       "    <tr>\n",
       "      <th>PC-1</th>\n",
       "      <td>0.306303</td>\n",
       "      <td>0.274875</td>\n",
       "      <td>0.278207</td>\n",
       "      <td>-0.261050</td>\n",
       "      <td>-0.381335</td>\n",
       "      <td>-0.423715</td>\n",
       "      <td>-0.427456</td>\n",
       "      <td>-0.421196</td>\n",
       "    </tr>\n",
       "    <tr>\n",
       "      <th>PC-2</th>\n",
       "      <td>0.328839</td>\n",
       "      <td>0.267717</td>\n",
       "      <td>0.527590</td>\n",
       "      <td>0.618356</td>\n",
       "      <td>0.370131</td>\n",
       "      <td>0.131581</td>\n",
       "      <td>-0.018712</td>\n",
       "      <td>-0.069392</td>\n",
       "    </tr>\n",
       "    <tr>\n",
       "      <th>PC-3</th>\n",
       "      <td>0.426007</td>\n",
       "      <td>0.698899</td>\n",
       "      <td>-0.430232</td>\n",
       "      <td>-0.132006</td>\n",
       "      <td>-0.029851</td>\n",
       "      <td>0.111717</td>\n",
       "      <td>0.211736</td>\n",
       "      <td>0.263304</td>\n",
       "    </tr>\n",
       "  </tbody>\n",
       "</table>\n",
       "</div>"
      ],
      "text/plain": [
       "          NDAI        SD      CORR  angle_DF  angle_CF  angle_BF  angle_AF  \\\n",
       "PC-1  0.306303  0.274875  0.278207 -0.261050 -0.381335 -0.423715 -0.427456   \n",
       "PC-2  0.328839  0.267717  0.527590  0.618356  0.370131  0.131581 -0.018712   \n",
       "PC-3  0.426007  0.698899 -0.430232 -0.132006 -0.029851  0.111717  0.211736   \n",
       "\n",
       "      angle_AN  \n",
       "PC-1 -0.421196  \n",
       "PC-2 -0.069392  \n",
       "PC-3  0.263304  "
      ]
     },
     "execution_count": 27,
     "metadata": {},
     "output_type": "execute_result"
    }
   ],
   "source": [
    "pd.DataFrame(pca.components_, columns=df_labeled.columns[3:-1], index=['PC-1','PC-2','PC-3'])"
   ]
  },
  {
   "cell_type": "code",
   "execution_count": 17,
   "metadata": {},
   "outputs": [
    {
     "data": {
      "text/plain": [
       "array([ 5.18782431,  1.54009217,  0.78174526])"
      ]
     },
     "execution_count": 17,
     "metadata": {},
     "output_type": "execute_result"
    }
   ],
   "source": [
    "pca.explained_variance_"
   ]
  },
  {
   "cell_type": "code",
   "execution_count": 20,
   "metadata": {},
   "outputs": [
    {
     "data": {
      "text/plain": [
       "2.773303"
      ]
     },
     "execution_count": 20,
     "metadata": {},
     "output_type": "execute_result"
    }
   ],
   "source": [
    "sum([0.306425,0.270058,0.274673,0.266268,0.382431,0.423985,0.427728,0.421735])"
   ]
  },
  {
   "cell_type": "code",
   "execution_count": 21,
   "metadata": {},
   "outputs": [
    {
     "data": {
      "text/plain": [
       "array([[ 0.3064247 ,  0.27005841,  0.27467281, -0.26626786, -0.38243058,\n",
       "        -0.42398547, -0.42772828, -0.4217349 ],\n",
       "       [ 0.33269275,  0.27829253,  0.53200875,  0.60863896,  0.36805725,\n",
       "         0.13336291, -0.01542529, -0.07003118],\n",
       "       [ 0.42024615,  0.69992255, -0.42798206, -0.14637852, -0.03233056,\n",
       "         0.1172774 ,  0.21517316,  0.2603988 ]])"
      ]
     },
     "execution_count": 21,
     "metadata": {},
     "output_type": "execute_result"
    }
   ],
   "source": [
    "pca.components_"
   ]
  },
  {
   "cell_type": "code",
   "execution_count": null,
   "metadata": {},
   "outputs": [],
   "source": [
    "# https://towardsdatascience.com/pca-using-python-scikit-learn-e653f8989e60\n",
    "# https://stackoverflow.com/questions/22984335/recovering-features-names-of-explained-variance-ratio-in-pca-with-sklearn"
   ]
  }
 ],
 "metadata": {
  "kernelspec": {
   "display_name": "Python 3",
   "language": "python",
   "name": "python3"
  },
  "language_info": {
   "codemirror_mode": {
    "name": "ipython",
    "version": 3
   },
   "file_extension": ".py",
   "mimetype": "text/x-python",
   "name": "python",
   "nbconvert_exporter": "python",
   "pygments_lexer": "ipython3",
   "version": "3.6.0"
  }
 },
 "nbformat": 4,
 "nbformat_minor": 2
}
