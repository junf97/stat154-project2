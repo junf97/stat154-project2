{
 "cells": [
  {
   "cell_type": "code",
   "execution_count": 1,
   "metadata": {},
   "outputs": [],
   "source": [
    "from common import *\n",
    "import pandas as pd\n",
    "import matplotlib.pyplot as plt\n",
    "%matplotlib inline"
   ]
  },
  {
   "cell_type": "code",
   "execution_count": 41,
   "metadata": {},
   "outputs": [
    {
     "data": {
      "text/html": [
       "<div>\n",
       "<style scoped>\n",
       "    .dataframe tbody tr th:only-of-type {\n",
       "        vertical-align: middle;\n",
       "    }\n",
       "\n",
       "    .dataframe tbody tr th {\n",
       "        vertical-align: top;\n",
       "    }\n",
       "\n",
       "    .dataframe thead th {\n",
       "        text-align: right;\n",
       "    }\n",
       "</style>\n",
       "<table border=\"1\" class=\"dataframe\">\n",
       "  <thead>\n",
       "    <tr style=\"text-align: right;\">\n",
       "      <th></th>\n",
       "      <th>x</th>\n",
       "      <th>y</th>\n",
       "      <th>label</th>\n",
       "      <th>NDAI</th>\n",
       "      <th>SD</th>\n",
       "      <th>CORR</th>\n",
       "      <th>angle_DF</th>\n",
       "      <th>angle_CF</th>\n",
       "      <th>angle_BF</th>\n",
       "      <th>angle_AF</th>\n",
       "      <th>angle_AN</th>\n",
       "      <th>source</th>\n",
       "    </tr>\n",
       "  </thead>\n",
       "  <tbody>\n",
       "    <tr>\n",
       "      <th>0</th>\n",
       "      <td>373.0</td>\n",
       "      <td>65.0</td>\n",
       "      <td>-1.0</td>\n",
       "      <td>-0.228591</td>\n",
       "      <td>1.752265</td>\n",
       "      <td>0.105434</td>\n",
       "      <td>271.62891</td>\n",
       "      <td>261.33844</td>\n",
       "      <td>251.83549</td>\n",
       "      <td>233.98555</td>\n",
       "      <td>219.14351</td>\n",
       "      <td>Image 1</td>\n",
       "    </tr>\n",
       "    <tr>\n",
       "      <th>1</th>\n",
       "      <td>374.0</td>\n",
       "      <td>65.0</td>\n",
       "      <td>-1.0</td>\n",
       "      <td>-0.205959</td>\n",
       "      <td>1.875819</td>\n",
       "      <td>0.113432</td>\n",
       "      <td>272.31284</td>\n",
       "      <td>262.95920</td>\n",
       "      <td>252.11003</td>\n",
       "      <td>234.83566</td>\n",
       "      <td>218.55107</td>\n",
       "      <td>Image 1</td>\n",
       "    </tr>\n",
       "    <tr>\n",
       "      <th>2</th>\n",
       "      <td>375.0</td>\n",
       "      <td>65.0</td>\n",
       "      <td>-1.0</td>\n",
       "      <td>0.019373</td>\n",
       "      <td>2.286991</td>\n",
       "      <td>0.114524</td>\n",
       "      <td>274.61032</td>\n",
       "      <td>263.17834</td>\n",
       "      <td>251.78252</td>\n",
       "      <td>233.68451</td>\n",
       "      <td>219.46140</td>\n",
       "      <td>Image 1</td>\n",
       "    </tr>\n",
       "    <tr>\n",
       "      <th>3</th>\n",
       "      <td>376.0</td>\n",
       "      <td>65.0</td>\n",
       "      <td>-1.0</td>\n",
       "      <td>-0.303432</td>\n",
       "      <td>2.822642</td>\n",
       "      <td>0.107892</td>\n",
       "      <td>276.65012</td>\n",
       "      <td>261.89957</td>\n",
       "      <td>250.35201</td>\n",
       "      <td>234.05057</td>\n",
       "      <td>220.41025</td>\n",
       "      <td>Image 1</td>\n",
       "    </tr>\n",
       "    <tr>\n",
       "      <th>4</th>\n",
       "      <td>377.0</td>\n",
       "      <td>65.0</td>\n",
       "      <td>-1.0</td>\n",
       "      <td>-0.675589</td>\n",
       "      <td>3.656925</td>\n",
       "      <td>0.102998</td>\n",
       "      <td>275.60010</td>\n",
       "      <td>259.69360</td>\n",
       "      <td>250.37851</td>\n",
       "      <td>234.48888</td>\n",
       "      <td>221.05806</td>\n",
       "      <td>Image 1</td>\n",
       "    </tr>\n",
       "  </tbody>\n",
       "</table>\n",
       "</div>"
      ],
      "text/plain": [
       "       x     y  label      NDAI        SD      CORR   angle_DF   angle_CF  \\\n",
       "0  373.0  65.0   -1.0 -0.228591  1.752265  0.105434  271.62891  261.33844   \n",
       "1  374.0  65.0   -1.0 -0.205959  1.875819  0.113432  272.31284  262.95920   \n",
       "2  375.0  65.0   -1.0  0.019373  2.286991  0.114524  274.61032  263.17834   \n",
       "3  376.0  65.0   -1.0 -0.303432  2.822642  0.107892  276.65012  261.89957   \n",
       "4  377.0  65.0   -1.0 -0.675589  3.656925  0.102998  275.60010  259.69360   \n",
       "\n",
       "    angle_BF   angle_AF   angle_AN   source  \n",
       "0  251.83549  233.98555  219.14351  Image 1  \n",
       "1  252.11003  234.83566  218.55107  Image 1  \n",
       "2  251.78252  233.68451  219.46140  Image 1  \n",
       "3  250.35201  234.05057  220.41025  Image 1  \n",
       "4  250.37851  234.48888  221.05806  Image 1  "
      ]
     },
     "execution_count": 41,
     "metadata": {},
     "output_type": "execute_result"
    }
   ],
   "source": [
    "set_seed(0)\n",
    "df = load_data()\n",
    "df.head()"
   ]
  },
  {
   "cell_type": "code",
   "execution_count": 49,
   "metadata": {},
   "outputs": [],
   "source": [
    "from sklearn.preprocessing import StandardScaler\n",
    "\n",
    "df_labeled = df.loc[df[\"label\"] != 0]\n",
    "features = df_labeled.columns[3:-1]\n",
    "# Separating out the features\n",
    "x = df_labeled.loc[:, features].values\n",
    "# Separating out the target\n",
    "y = df_labeled.loc[:,['label']].values\n",
    "# Standardizing the features\n",
    "x = StandardScaler().fit_transform(x)\n"
   ]
  },
  {
   "cell_type": "code",
   "execution_count": 50,
   "metadata": {},
   "outputs": [
    {
     "data": {
      "text/html": [
       "<div>\n",
       "<style scoped>\n",
       "    .dataframe tbody tr th:only-of-type {\n",
       "        vertical-align: middle;\n",
       "    }\n",
       "\n",
       "    .dataframe tbody tr th {\n",
       "        vertical-align: top;\n",
       "    }\n",
       "\n",
       "    .dataframe thead th {\n",
       "        text-align: right;\n",
       "    }\n",
       "</style>\n",
       "<table border=\"1\" class=\"dataframe\">\n",
       "  <thead>\n",
       "    <tr style=\"text-align: right;\">\n",
       "      <th></th>\n",
       "      <th>principal component 1</th>\n",
       "      <th>principal component 2</th>\n",
       "      <th>principal component 3</th>\n",
       "    </tr>\n",
       "  </thead>\n",
       "  <tbody>\n",
       "    <tr>\n",
       "      <th>0</th>\n",
       "      <td>-1.551724</td>\n",
       "      <td>-0.595909</td>\n",
       "      <td>0.140381</td>\n",
       "    </tr>\n",
       "    <tr>\n",
       "      <th>1</th>\n",
       "      <td>-1.546093</td>\n",
       "      <td>-0.521583</td>\n",
       "      <td>0.125286</td>\n",
       "    </tr>\n",
       "    <tr>\n",
       "      <th>2</th>\n",
       "      <td>-1.490689</td>\n",
       "      <td>-0.417851</td>\n",
       "      <td>0.218537</td>\n",
       "    </tr>\n",
       "    <tr>\n",
       "      <th>3</th>\n",
       "      <td>-1.558547</td>\n",
       "      <td>-0.494627</td>\n",
       "      <td>0.195634</td>\n",
       "    </tr>\n",
       "    <tr>\n",
       "      <th>4</th>\n",
       "      <td>-1.606441</td>\n",
       "      <td>-0.611261</td>\n",
       "      <td>0.190384</td>\n",
       "    </tr>\n",
       "  </tbody>\n",
       "</table>\n",
       "</div>"
      ],
      "text/plain": [
       "   principal component 1  principal component 2  principal component 3\n",
       "0              -1.551724              -0.595909               0.140381\n",
       "1              -1.546093              -0.521583               0.125286\n",
       "2              -1.490689              -0.417851               0.218537\n",
       "3              -1.558547              -0.494627               0.195634\n",
       "4              -1.606441              -0.611261               0.190384"
      ]
     },
     "execution_count": 50,
     "metadata": {},
     "output_type": "execute_result"
    }
   ],
   "source": [
    "from sklearn.decomposition import PCA\n",
    "\n",
    "pca = PCA(n_components=3)\n",
    "principalComponents = pca.fit_transform(x)\n",
    "principalDf = pd.DataFrame(data = principalComponents\n",
    "             , columns = ['principal component 1', 'principal component 2', 'principal component 3'])\n",
    "principalDf.head()\n"
   ]
  },
  {
   "cell_type": "code",
   "execution_count": 51,
   "metadata": {},
   "outputs": [
    {
     "data": {
      "text/plain": [
       "array([ 0.65053332,  0.192101  ,  0.09604024])"
      ]
     },
     "execution_count": 51,
     "metadata": {},
     "output_type": "execute_result"
    }
   ],
   "source": [
    "pca.explained_variance_ratio_"
   ]
  },
  {
   "cell_type": "code",
   "execution_count": 52,
   "metadata": {},
   "outputs": [
    {
     "data": {
      "text/plain": [
       "array([ 5.20429154,  1.53681541,  0.7683256 ])"
      ]
     },
     "execution_count": 52,
     "metadata": {},
     "output_type": "execute_result"
    }
   ],
   "source": [
    "pca.explained_variance_"
   ]
  },
  {
   "cell_type": "code",
   "execution_count": 53,
   "metadata": {},
   "outputs": [
    {
     "name": "stdout",
     "output_type": "stream",
     "text": [
      "total variance explained  0.938674557455\n"
     ]
    }
   ],
   "source": [
    "print(\"total variance explained \", sum(pca.explained_variance_ratio_))"
   ]
  },
  {
   "cell_type": "code",
   "execution_count": 54,
   "metadata": {
    "scrolled": true
   },
   "outputs": [
    {
     "data": {
      "text/html": [
       "<div>\n",
       "<style scoped>\n",
       "    .dataframe tbody tr th:only-of-type {\n",
       "        vertical-align: middle;\n",
       "    }\n",
       "\n",
       "    .dataframe tbody tr th {\n",
       "        vertical-align: top;\n",
       "    }\n",
       "\n",
       "    .dataframe thead th {\n",
       "        text-align: right;\n",
       "    }\n",
       "</style>\n",
       "<table border=\"1\" class=\"dataframe\">\n",
       "  <thead>\n",
       "    <tr style=\"text-align: right;\">\n",
       "      <th></th>\n",
       "      <th>NDAI</th>\n",
       "      <th>SD</th>\n",
       "      <th>CORR</th>\n",
       "      <th>angle_DF</th>\n",
       "      <th>angle_CF</th>\n",
       "      <th>angle_BF</th>\n",
       "      <th>angle_AF</th>\n",
       "      <th>angle_AN</th>\n",
       "    </tr>\n",
       "  </thead>\n",
       "  <tbody>\n",
       "    <tr>\n",
       "      <th>PC-1</th>\n",
       "      <td>0.308012</td>\n",
       "      <td>0.275721</td>\n",
       "      <td>0.273827</td>\n",
       "      <td>-0.263618</td>\n",
       "      <td>-0.381593</td>\n",
       "      <td>-0.423665</td>\n",
       "      <td>-0.427086</td>\n",
       "      <td>-0.420861</td>\n",
       "    </tr>\n",
       "    <tr>\n",
       "      <th>PC-2</th>\n",
       "      <td>0.326351</td>\n",
       "      <td>0.262428</td>\n",
       "      <td>0.535786</td>\n",
       "      <td>0.614792</td>\n",
       "      <td>0.369060</td>\n",
       "      <td>0.132515</td>\n",
       "      <td>-0.019722</td>\n",
       "      <td>-0.073730</td>\n",
       "    </tr>\n",
       "    <tr>\n",
       "      <th>PC-3</th>\n",
       "      <td>0.426196</td>\n",
       "      <td>0.701700</td>\n",
       "      <td>-0.425852</td>\n",
       "      <td>-0.126386</td>\n",
       "      <td>-0.025285</td>\n",
       "      <td>0.116925</td>\n",
       "      <td>0.213810</td>\n",
       "      <td>0.261964</td>\n",
       "    </tr>\n",
       "  </tbody>\n",
       "</table>\n",
       "</div>"
      ],
      "text/plain": [
       "          NDAI        SD      CORR  angle_DF  angle_CF  angle_BF  angle_AF  \\\n",
       "PC-1  0.308012  0.275721  0.273827 -0.263618 -0.381593 -0.423665 -0.427086   \n",
       "PC-2  0.326351  0.262428  0.535786  0.614792  0.369060  0.132515 -0.019722   \n",
       "PC-3  0.426196  0.701700 -0.425852 -0.126386 -0.025285  0.116925  0.213810   \n",
       "\n",
       "      angle_AN  \n",
       "PC-1 -0.420861  \n",
       "PC-2 -0.073730  \n",
       "PC-3  0.261964  "
      ]
     },
     "execution_count": 54,
     "metadata": {},
     "output_type": "execute_result"
    }
   ],
   "source": [
    "pd.DataFrame(pca.components_, columns=df_labeled.columns[3:-1], index=['PC-1','PC-2','PC-3'])"
   ]
  },
  {
   "cell_type": "code",
   "execution_count": 60,
   "metadata": {},
   "outputs": [
    {
     "data": {
      "image/png": "[encoded data removed]",
      "text/plain": [
       "<matplotlib.figure.Figure at 0x12c1666a0>"
      ]
     },
     "metadata": {},
     "output_type": "display_data"
    }
   ],
   "source": [
    "fig = plt.figure(figsize=(15, 7))\n",
    "fig.subplots_adjust(hspace=0.4, wspace=0.4, bottom=0.25)\n",
    "\n",
    "features = df_labeled.columns[3:-1]\n",
    "y_pos = np.arange(len(features))\n",
    "\n",
    "for i in range(3):\n",
    "    ax = fig.add_subplot(1, 3, i+1)\n",
    "    cor = abs(pca.components_[i])\n",
    "    plt.bar(y_pos, cor, align='center', alpha=0.5)\n",
    "    plt.xticks(y_pos, features, rotation=90)\n",
    "    plt.ylabel('PC-{} component'.format(i+1))\n",
    "    plt.title('Original Features Contribution to PC')"
   ]
  },
  {
   "cell_type": "code",
   "execution_count": 71,
   "metadata": {},
   "outputs": [
    {
     "data": {
      "image/png": "[encoded data removed]",
      "text/plain": [
       "<matplotlib.figure.Figure at 0x12d300860>"
      ]
     },
     "metadata": {},
     "output_type": "display_data"
    }
   ],
   "source": [
    "plt.plot(range(1,4), pca.explained_variance_ratio_)\n",
    "plt.xlabel('Principle Component Number')\n",
    "plt.ylabel('Proportion of Variance explained') \n",
    "plt.xticks(range(1,4), ['PC-1','PC-2','PC-3'])\n",
    "plt.title('Proportion of Variance Explained');"
   ]
  },
  {
   "cell_type": "code",
   "execution_count": 10,
   "metadata": {},
   "outputs": [],
   "source": [
    "# https://towardsdatascience.com/pca-using-python-scikit-learn-e653f8989e60\n",
    "# https://stackoverflow.com/questions/22984335/recovering-features-names-of-explained-variance-ratio-in-pca-with-sklearn\n"
   ]
  },
  {
   "cell_type": "code",
   "execution_count": 63,
   "metadata": {},
   "outputs": [
    {
     "data": {
      "text/html": [
       "<div>\n",
       "<style scoped>\n",
       "    .dataframe tbody tr th:only-of-type {\n",
       "        vertical-align: middle;\n",
       "    }\n",
       "\n",
       "    .dataframe tbody tr th {\n",
       "        vertical-align: top;\n",
       "    }\n",
       "\n",
       "    .dataframe thead th {\n",
       "        text-align: right;\n",
       "    }\n",
       "</style>\n",
       "<table border=\"1\" class=\"dataframe\">\n",
       "  <thead>\n",
       "    <tr style=\"text-align: right;\">\n",
       "      <th></th>\n",
       "      <th>label</th>\n",
       "      <th>NDAI</th>\n",
       "      <th>SD</th>\n",
       "      <th>CORR</th>\n",
       "      <th>angle_DF</th>\n",
       "      <th>angle_CF</th>\n",
       "      <th>angle_BF</th>\n",
       "      <th>angle_AF</th>\n",
       "      <th>angle_AN</th>\n",
       "    </tr>\n",
       "  </thead>\n",
       "  <tbody>\n",
       "    <tr>\n",
       "      <th>label</th>\n",
       "      <td>1.000000</td>\n",
       "      <td>0.758410</td>\n",
       "      <td>0.436026</td>\n",
       "      <td>0.551004</td>\n",
       "      <td>0.010787</td>\n",
       "      <td>-0.282757</td>\n",
       "      <td>-0.447665</td>\n",
       "      <td>-0.507321</td>\n",
       "      <td>-0.504600</td>\n",
       "    </tr>\n",
       "    <tr>\n",
       "      <th>NDAI</th>\n",
       "      <td>0.758410</td>\n",
       "      <td>1.000000</td>\n",
       "      <td>0.647447</td>\n",
       "      <td>0.535021</td>\n",
       "      <td>-0.163996</td>\n",
       "      <td>-0.438473</td>\n",
       "      <td>-0.571011</td>\n",
       "      <td>-0.611994</td>\n",
       "      <td>-0.608525</td>\n",
       "    </tr>\n",
       "    <tr>\n",
       "      <th>SD</th>\n",
       "      <td>0.436026</td>\n",
       "      <td>0.647447</td>\n",
       "      <td>1.000000</td>\n",
       "      <td>0.407306</td>\n",
       "      <td>-0.196574</td>\n",
       "      <td>-0.407029</td>\n",
       "      <td>-0.491237</td>\n",
       "      <td>-0.514334</td>\n",
       "      <td>-0.506879</td>\n",
       "    </tr>\n",
       "    <tr>\n",
       "      <th>CORR</th>\n",
       "      <td>0.551004</td>\n",
       "      <td>0.535021</td>\n",
       "      <td>0.407306</td>\n",
       "      <td>1.000000</td>\n",
       "      <td>0.147762</td>\n",
       "      <td>-0.229094</td>\n",
       "      <td>-0.518211</td>\n",
       "      <td>-0.684018</td>\n",
       "      <td>-0.746075</td>\n",
       "    </tr>\n",
       "    <tr>\n",
       "      <th>angle_DF</th>\n",
       "      <td>0.010787</td>\n",
       "      <td>-0.163996</td>\n",
       "      <td>-0.196574</td>\n",
       "      <td>0.147762</td>\n",
       "      <td>1.000000</td>\n",
       "      <td>0.850304</td>\n",
       "      <td>0.670344</td>\n",
       "      <td>0.537794</td>\n",
       "      <td>0.489264</td>\n",
       "    </tr>\n",
       "    <tr>\n",
       "      <th>angle_CF</th>\n",
       "      <td>-0.282757</td>\n",
       "      <td>-0.438473</td>\n",
       "      <td>-0.407029</td>\n",
       "      <td>-0.229094</td>\n",
       "      <td>0.850304</td>\n",
       "      <td>1.000000</td>\n",
       "      <td>0.918958</td>\n",
       "      <td>0.825947</td>\n",
       "      <td>0.779520</td>\n",
       "    </tr>\n",
       "    <tr>\n",
       "      <th>angle_BF</th>\n",
       "      <td>-0.447665</td>\n",
       "      <td>-0.571011</td>\n",
       "      <td>-0.491237</td>\n",
       "      <td>-0.518211</td>\n",
       "      <td>0.670344</td>\n",
       "      <td>0.918958</td>\n",
       "      <td>1.000000</td>\n",
       "      <td>0.962479</td>\n",
       "      <td>0.925560</td>\n",
       "    </tr>\n",
       "    <tr>\n",
       "      <th>angle_AF</th>\n",
       "      <td>-0.507321</td>\n",
       "      <td>-0.611994</td>\n",
       "      <td>-0.514334</td>\n",
       "      <td>-0.684018</td>\n",
       "      <td>0.537794</td>\n",
       "      <td>0.825947</td>\n",
       "      <td>0.962479</td>\n",
       "      <td>1.000000</td>\n",
       "      <td>0.981917</td>\n",
       "    </tr>\n",
       "    <tr>\n",
       "      <th>angle_AN</th>\n",
       "      <td>-0.504600</td>\n",
       "      <td>-0.608525</td>\n",
       "      <td>-0.506879</td>\n",
       "      <td>-0.746075</td>\n",
       "      <td>0.489264</td>\n",
       "      <td>0.779520</td>\n",
       "      <td>0.925560</td>\n",
       "      <td>0.981917</td>\n",
       "      <td>1.000000</td>\n",
       "    </tr>\n",
       "  </tbody>\n",
       "</table>\n",
       "</div>"
      ],
      "text/plain": [
       "             label      NDAI        SD      CORR  angle_DF  angle_CF  \\\n",
       "label     1.000000  0.758410  0.436026  0.551004  0.010787 -0.282757   \n",
       "NDAI      0.758410  1.000000  0.647447  0.535021 -0.163996 -0.438473   \n",
       "SD        0.436026  0.647447  1.000000  0.407306 -0.196574 -0.407029   \n",
       "CORR      0.551004  0.535021  0.407306  1.000000  0.147762 -0.229094   \n",
       "angle_DF  0.010787 -0.163996 -0.196574  0.147762  1.000000  0.850304   \n",
       "angle_CF -0.282757 -0.438473 -0.407029 -0.229094  0.850304  1.000000   \n",
       "angle_BF -0.447665 -0.571011 -0.491237 -0.518211  0.670344  0.918958   \n",
       "angle_AF -0.507321 -0.611994 -0.514334 -0.684018  0.537794  0.825947   \n",
       "angle_AN -0.504600 -0.608525 -0.506879 -0.746075  0.489264  0.779520   \n",
       "\n",
       "          angle_BF  angle_AF  angle_AN  \n",
       "label    -0.447665 -0.507321 -0.504600  \n",
       "NDAI     -0.571011 -0.611994 -0.608525  \n",
       "SD       -0.491237 -0.514334 -0.506879  \n",
       "CORR     -0.518211 -0.684018 -0.746075  \n",
       "angle_DF  0.670344  0.537794  0.489264  \n",
       "angle_CF  0.918958  0.825947  0.779520  \n",
       "angle_BF  1.000000  0.962479  0.925560  \n",
       "angle_AF  0.962479  1.000000  0.981917  \n",
       "angle_AN  0.925560  0.981917  1.000000  "
      ]
     },
     "execution_count": 63,
     "metadata": {},
     "output_type": "execute_result"
    }
   ],
   "source": [
    "df_labeled.iloc[:,2:].corr()"
   ]
  },
  {
   "cell_type": "code",
   "execution_count": 69,
   "metadata": {},
   "outputs": [
    {
     "data": {
      "image/png": "[encoded data removed]",
      "text/plain": [
       "<matplotlib.figure.Figure at 0x12c189400>"
      ]
     },
     "metadata": {},
     "output_type": "display_data"
    }
   ],
   "source": [
    "fig = plt.figure(figsize=(15, 7))\n",
    "fig.subplots_adjust(hspace=0.4, wspace=0.4, bottom=0.25)\n",
    "\n",
    "features = [\"label\"] + df_labeled.columns[3:-1].tolist()\n",
    "y_pos = np.arange(len(features))\n",
    "\n",
    "for i in range(2):\n",
    "    ax = fig.add_subplot(1, 2, i+1)\n",
    "    cor = abs(df_labeled.iloc[:,2:].corr()[features[i]])\n",
    "    plt.bar(y_pos, cor, align='center', alpha=0.5)\n",
    "    plt.xticks(y_pos, features, rotation=90)\n",
    "    plt.ylabel('Correaltion with {}'.format(features[i]))\n",
    "    plt.title('Correlation Plot')"
   ]
  },
  {
   "cell_type": "code",
   "execution_count": null,
   "metadata": {},
   "outputs": [],
   "source": []
  },
  {
   "cell_type": "code",
   "execution_count": null,
   "metadata": {},
   "outputs": [],
   "source": []
  }
 ],
 "metadata": {
  "kernelspec": {
   "display_name": "Python 3",
   "language": "python",
   "name": "python3"
  },
  "language_info": {
   "codemirror_mode": {
    "name": "ipython",
    "version": 3
   },
   "file_extension": ".py",
   "mimetype": "text/x-python",
   "name": "python",
   "nbconvert_exporter": "python",
   "pygments_lexer": "ipython3",
   "version": "3.6.0"
  }
 },
 "nbformat": 4,
 "nbformat_minor": 2
}
